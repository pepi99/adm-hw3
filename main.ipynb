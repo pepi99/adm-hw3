{
 "cells": [
  {
   "cell_type": "code",
   "execution_count": null,
   "id": "f75309ce",
   "metadata": {},
   "outputs": [],
   "source": []
  }
 ],
 "metadata": {
  "language_info": {
   "file_extension": ".py",
   "mimetype": "text/x-python",
   "name": "python",
   "version": "3"
  }
 },
 "nbformat": 4,
 "nbformat_minor": 5
}
